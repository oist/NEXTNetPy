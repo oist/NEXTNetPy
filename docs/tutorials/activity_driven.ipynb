{
 "cells": [
  {
   "cell_type": "markdown",
   "id": "a89c92d6",
   "metadata": {},
   "source": [
    "# Average epidemic trajectory on an activity-driven-network"
   ]
  },
  {
   "cell_type": "markdown",
   "id": "72db6df9",
   "metadata": {},
   "source": [
    "## Summary\n",
    "\n",
    "In this tutorial, we show how to simulate and analyze a SIS epidemic on an activity driven network.\n",
    "\n",
    "The network model is based on the paper *Cai, C. R., Nie, Y. Y., & Holme, P. (2024). Epidemic criticality in temporal networks. Physical Review Research, 6(2), L022017.*\n",
    "\n",
    "\n",
    "\n",
    "The network consists of two types of nodes: *active* or *inactive*. Active nodes become inactive at a rate `recovery_rate` and inactive nodes becomes active at their own rate, determined by the array `activity_rates`. For this example, we assume that nodes have an activity rate that is uniformly distributed on $[0.01,5]$ and become inactive at unit rate. "
   ]
  },
  {
   "cell_type": "markdown",
   "id": "27ae09ec",
   "metadata": {},
   "source": [
    "## Network Analysis"
   ]
  },
  {
   "cell_type": "code",
   "execution_count": 1,
   "id": "cea235e6",
   "metadata": {},
   "outputs": [],
   "source": [
    "import nextnet as nn \n",
    "import numpy as np \n",
    "import matplotlib.pyplot as plt\n",
    "\n",
    "# random generator\n",
    "seed=1 \n",
    "rng = nn.rng(seed)"
   ]
  },
  {
   "cell_type": "code",
   "execution_count": 47,
   "id": "2e8ffaa3",
   "metadata": {},
   "outputs": [],
   "source": [
    "# Network parameters\n",
    "\n",
    "n = 10**3  # number of nodes in the network\n",
    "low = 0.01\n",
    "high = 5\n",
    "activity_rates = np.random.uniform(low, high, n)\n",
    "\n",
    "g = nn.activity_driven_network(\n",
    "    activity_rates,\n",
    "    eta= 1, # strength of activity\n",
    "    m = 5, #number of links created\n",
    "    recovery_rate = 1,\n",
    "    rng = rng)"
   ]
  },
  {
   "cell_type": "markdown",
   "id": "1ddbf7ad",
   "metadata": {},
   "source": [
    "### Single trajectory"
   ]
  },
  {
   "cell_type": "markdown",
   "id": "6b9e3924",
   "metadata": {},
   "source": [
    "We compute a SIS trajectory with an infectiousness that is periodic and recovery times that are gamma distributed with mean $7$ and variance $1$"
   ]
  },
  {
   "cell_type": "code",
   "execution_count": null,
   "id": "70a0cf57",
   "metadata": {},
   "outputs": [
    {
     "ename": "RuntimeError",
     "evalue": "node is already infected",
     "output_type": "error",
     "traceback": [
      "\u001b[0;31m---------------------------------------------------------------------------\u001b[0m",
      "\u001b[0;31mRuntimeError\u001b[0m                              Traceback (most recent call last)",
      "Cell \u001b[0;32mIn[53], line 11\u001b[0m\n\u001b[1;32m      7\u001b[0m sim\u001b[38;5;241m.\u001b[39madd_infections([(\u001b[38;5;241m0\u001b[39m,\u001b[38;5;241m0\u001b[39m)])\n\u001b[1;32m      9\u001b[0m opt \u001b[38;5;241m=\u001b[39m {\u001b[38;5;124m\"\u001b[39m\u001b[38;5;124mtime\u001b[39m\u001b[38;5;124m\"\u001b[39m: \u001b[38;5;241m40\u001b[39m, \u001b[38;5;124m\"\u001b[39m\u001b[38;5;124mnetwork_events\u001b[39m\u001b[38;5;124m\"\u001b[39m:\u001b[38;5;28;01mFalse\u001b[39;00m,\u001b[38;5;124m\"\u001b[39m\u001b[38;5;124mepidemic_events\u001b[39m\u001b[38;5;124m\"\u001b[39m:\u001b[38;5;28;01mTrue\u001b[39;00m} \u001b[38;5;66;03m#dictionary of options\u001b[39;00m\n\u001b[0;32m---> 11\u001b[0m results \u001b[38;5;241m=\u001b[39m \u001b[43msim\u001b[49m\u001b[38;5;241;43m.\u001b[39;49m\u001b[43mrun\u001b[49m\u001b[43m(\u001b[49m\u001b[43mrng\u001b[49m\u001b[43m,\u001b[49m\u001b[43mopt\u001b[49m\u001b[43m)\u001b[49m \n\u001b[1;32m     13\u001b[0m plt\u001b[38;5;241m.\u001b[39mplot(results[\u001b[38;5;124m\"\u001b[39m\u001b[38;5;124mtime\u001b[39m\u001b[38;5;124m\"\u001b[39m],results[\u001b[38;5;124m\"\u001b[39m\u001b[38;5;124minfected\u001b[39m\u001b[38;5;124m\"\u001b[39m])\n\u001b[1;32m     14\u001b[0m plt\u001b[38;5;241m.\u001b[39mxlabel(\u001b[38;5;124m\"\u001b[39m\u001b[38;5;124mtime $t$\u001b[39m\u001b[38;5;124m\"\u001b[39m)\n",
      "\u001b[0;31mRuntimeError\u001b[0m: node is already infected"
     ]
    }
   ],
   "source": [
    "tau = np.arange(0.01,20,0.01)\n",
    "infectiousness = np.sin(tau*np.pi/10)**2\n",
    "psi = nn.transmission_time_infectiousness(tau,infectiousness)\n",
    "rho = nn.transmission_time_gamma(7,1)\n",
    "\n",
    "sim = nn.simulation_temporal(g,psi,rho,SIR=False)\n",
    "sim.add_infections([(0,0)])\n",
    "\n",
    "opt = {\"time\": 40, \"network_events\":False,\"epidemic_events\":True} #dictionary of options\n",
    "\n",
    "results = sim.run(rng,opt) \n",
    "\n",
    "plt.plot(results[\"time\"],results[\"infected\"])\n",
    "plt.xlabel(\"time $t$\")\n",
    "plt.ylabel(\"number of infected\")\n",
    "plt.title(\"SIS trajectory on Activity-Driven Network\")\n",
    "plt.show()"
   ]
  },
  {
   "cell_type": "markdown",
   "id": "b00389ca",
   "metadata": {},
   "source": [
    "### Average trajectory"
   ]
  },
  {
   "cell_type": "markdown",
   "id": "5453ea65",
   "metadata": {},
   "source": [
    "The above trajectory is a stochastic trajectory and does not seem to self-average. We can compute the average trajectory of the SIS epidemic. To run a new epidemic, we need to create a new instance of the activity-driven network. If one wants to create the same network as before, the same seed needs to be specified"
   ]
  },
  {
   "cell_type": "code",
   "execution_count": null,
   "id": "36964e3f",
   "metadata": {},
   "outputs": [
    {
     "data": {
      "image/png": "[encoded data removed]",
      "text/plain": [
       "<Figure size 640x480 with 1 Axes>"
      ]
     },
     "metadata": {},
     "output_type": "display_data"
    }
   ],
   "source": [
    "nb_sim=15\n",
    "infected = []\n",
    "times = []\n",
    "for repeat in range(nb_sim):\n",
    "\n",
    "\tg = nn.activity_driven_network(\n",
    "\t\tactivity_rates,\n",
    "\t\teta= 1, # strength of activity\n",
    "\t\tm = 5, #number of links created\n",
    "\t\trecovery_rate = 1,\n",
    "\t\trng = rng)\n",
    "\n",
    "\tsim = nn.simulation_temporal(g,psi,rho,SIR=False)\n",
    "\tsim.add_infections([(0,0)])\n",
    "\n",
    "\topt = {\"time\": 40, \"network_events\":False,\"epidemic_events\":True} #dictionary of options\n",
    "\n",
    "\tresults = sim.run(rng,opt) \n",
    "\tinfected += [1/nb_sim if event[-1]==0 else -1/nb_sim  for event in results[\"data\"]]\n",
    "\ttimes +=results[\"time\"]\n",
    "\n",
    "pairs = sorted(zip(times, infected), key=lambda x: x[0])\n",
    "times_sorted, infected_sorted = zip(*pairs)\n",
    "\n",
    "plt.plot(times_sorted,np.cumsum(infected_sorted),'--')\n",
    "plt.xlabel(\"time $t$\")\n",
    "plt.ylabel(\"number of infected\")\n",
    "plt.title(\"Average trajectory on Activity-Driven Network\")\n",
    "plt.show()"
   ]
  },
  {
   "cell_type": "markdown",
   "id": "a3c559ce",
   "metadata": {},
   "source": [
    "A few remarks:\n",
    "- Memory usage: This exact method computes the average trajectory by storing all individual trajectories and sorting them afterward. However, it is memory-intensive; for larger networks or many simulations, consider implementing a streaming or online algorithm to reduce peak memory consumption.\n",
    "- Steady-state initialization: We seeded the epidemic at time $t=0$, when the network dynamics had not yet reached steady state. To ensure equilibration, introduce the first infection at time $t = t_{\\rm init}$ within the simulator. By the time this initial infection occurs, the network will have stabilized into a steady state.\n",
    "\n"
   ]
  }
 ],
 "metadata": {
  "kernelspec": {
   "display_name": "Python 3",
   "language": "python",
   "name": "python3"
  },
  "language_info": {
   "codemirror_mode": {
    "name": "ipython",
    "version": 3
   },
   "file_extension": ".py",
   "mimetype": "text/x-python",
   "name": "python",
   "nbconvert_exporter": "python",
   "pygments_lexer": "ipython3",
   "version": "3.13.0"
  }
 },
 "nbformat": 4,
 "nbformat_minor": 5
}
